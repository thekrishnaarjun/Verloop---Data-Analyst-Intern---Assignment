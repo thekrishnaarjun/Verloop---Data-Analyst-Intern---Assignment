{
  "nbformat": 4,
  "nbformat_minor": 0,
  "metadata": {
    "colab": {
      "provenance": []
    },
    "kernelspec": {
      "name": "python3",
      "display_name": "Python 3"
    },
    "language_info": {
      "name": "python"
    }
  },
  "cells": [
    {
      "cell_type": "code",
      "source": [
        "!pip install streamlit pyngrok xlsxwriter"
      ],
      "metadata": {
        "colab": {
          "base_uri": "https://localhost:8080/"
        },
        "collapsed": true,
        "id": "VEbUTegQRJ4t",
        "outputId": "cb373b70-e841-43f8-a2f0-4fe2f3a24bc0"
      },
      "execution_count": 47,
      "outputs": [
        {
          "output_type": "stream",
          "name": "stdout",
          "text": [
            "Requirement already satisfied: streamlit in /usr/local/lib/python3.11/dist-packages (1.44.1)\n",
            "Requirement already satisfied: pyngrok in /usr/local/lib/python3.11/dist-packages (7.2.5)\n",
            "Requirement already satisfied: xlsxwriter in /usr/local/lib/python3.11/dist-packages (3.2.3)\n",
            "Requirement already satisfied: altair<6,>=4.0 in /usr/local/lib/python3.11/dist-packages (from streamlit) (5.5.0)\n",
            "Requirement already satisfied: blinker<2,>=1.0.0 in /usr/local/lib/python3.11/dist-packages (from streamlit) (1.9.0)\n",
            "Requirement already satisfied: cachetools<6,>=4.0 in /usr/local/lib/python3.11/dist-packages (from streamlit) (5.5.2)\n",
            "Requirement already satisfied: click<9,>=7.0 in /usr/local/lib/python3.11/dist-packages (from streamlit) (8.1.8)\n",
            "Requirement already satisfied: numpy<3,>=1.23 in /usr/local/lib/python3.11/dist-packages (from streamlit) (2.0.2)\n",
            "Requirement already satisfied: packaging<25,>=20 in /usr/local/lib/python3.11/dist-packages (from streamlit) (24.2)\n",
            "Requirement already satisfied: pandas<3,>=1.4.0 in /usr/local/lib/python3.11/dist-packages (from streamlit) (2.2.2)\n",
            "Requirement already satisfied: pillow<12,>=7.1.0 in /usr/local/lib/python3.11/dist-packages (from streamlit) (11.1.0)\n",
            "Requirement already satisfied: protobuf<6,>=3.20 in /usr/local/lib/python3.11/dist-packages (from streamlit) (5.29.4)\n",
            "Requirement already satisfied: pyarrow>=7.0 in /usr/local/lib/python3.11/dist-packages (from streamlit) (18.1.0)\n",
            "Requirement already satisfied: requests<3,>=2.27 in /usr/local/lib/python3.11/dist-packages (from streamlit) (2.32.3)\n",
            "Requirement already satisfied: tenacity<10,>=8.1.0 in /usr/local/lib/python3.11/dist-packages (from streamlit) (9.1.2)\n",
            "Requirement already satisfied: toml<2,>=0.10.1 in /usr/local/lib/python3.11/dist-packages (from streamlit) (0.10.2)\n",
            "Requirement already satisfied: typing-extensions<5,>=4.4.0 in /usr/local/lib/python3.11/dist-packages (from streamlit) (4.13.2)\n",
            "Requirement already satisfied: watchdog<7,>=2.1.5 in /usr/local/lib/python3.11/dist-packages (from streamlit) (6.0.0)\n",
            "Requirement already satisfied: gitpython!=3.1.19,<4,>=3.0.7 in /usr/local/lib/python3.11/dist-packages (from streamlit) (3.1.44)\n",
            "Requirement already satisfied: pydeck<1,>=0.8.0b4 in /usr/local/lib/python3.11/dist-packages (from streamlit) (0.9.1)\n",
            "Requirement already satisfied: tornado<7,>=6.0.3 in /usr/local/lib/python3.11/dist-packages (from streamlit) (6.4.2)\n",
            "Requirement already satisfied: PyYAML>=5.1 in /usr/local/lib/python3.11/dist-packages (from pyngrok) (6.0.2)\n",
            "Requirement already satisfied: jinja2 in /usr/local/lib/python3.11/dist-packages (from altair<6,>=4.0->streamlit) (3.1.6)\n",
            "Requirement already satisfied: jsonschema>=3.0 in /usr/local/lib/python3.11/dist-packages (from altair<6,>=4.0->streamlit) (4.23.0)\n",
            "Requirement already satisfied: narwhals>=1.14.2 in /usr/local/lib/python3.11/dist-packages (from altair<6,>=4.0->streamlit) (1.35.0)\n",
            "Requirement already satisfied: gitdb<5,>=4.0.1 in /usr/local/lib/python3.11/dist-packages (from gitpython!=3.1.19,<4,>=3.0.7->streamlit) (4.0.12)\n",
            "Requirement already satisfied: python-dateutil>=2.8.2 in /usr/local/lib/python3.11/dist-packages (from pandas<3,>=1.4.0->streamlit) (2.8.2)\n",
            "Requirement already satisfied: pytz>=2020.1 in /usr/local/lib/python3.11/dist-packages (from pandas<3,>=1.4.0->streamlit) (2025.2)\n",
            "Requirement already satisfied: tzdata>=2022.7 in /usr/local/lib/python3.11/dist-packages (from pandas<3,>=1.4.0->streamlit) (2025.2)\n",
            "Requirement already satisfied: charset-normalizer<4,>=2 in /usr/local/lib/python3.11/dist-packages (from requests<3,>=2.27->streamlit) (3.4.1)\n",
            "Requirement already satisfied: idna<4,>=2.5 in /usr/local/lib/python3.11/dist-packages (from requests<3,>=2.27->streamlit) (3.10)\n",
            "Requirement already satisfied: urllib3<3,>=1.21.1 in /usr/local/lib/python3.11/dist-packages (from requests<3,>=2.27->streamlit) (2.3.0)\n",
            "Requirement already satisfied: certifi>=2017.4.17 in /usr/local/lib/python3.11/dist-packages (from requests<3,>=2.27->streamlit) (2025.1.31)\n",
            "Requirement already satisfied: smmap<6,>=3.0.1 in /usr/local/lib/python3.11/dist-packages (from gitdb<5,>=4.0.1->gitpython!=3.1.19,<4,>=3.0.7->streamlit) (5.0.2)\n",
            "Requirement already satisfied: MarkupSafe>=2.0 in /usr/local/lib/python3.11/dist-packages (from jinja2->altair<6,>=4.0->streamlit) (3.0.2)\n",
            "Requirement already satisfied: attrs>=22.2.0 in /usr/local/lib/python3.11/dist-packages (from jsonschema>=3.0->altair<6,>=4.0->streamlit) (25.3.0)\n",
            "Requirement already satisfied: jsonschema-specifications>=2023.03.6 in /usr/local/lib/python3.11/dist-packages (from jsonschema>=3.0->altair<6,>=4.0->streamlit) (2024.10.1)\n",
            "Requirement already satisfied: referencing>=0.28.4 in /usr/local/lib/python3.11/dist-packages (from jsonschema>=3.0->altair<6,>=4.0->streamlit) (0.36.2)\n",
            "Requirement already satisfied: rpds-py>=0.7.1 in /usr/local/lib/python3.11/dist-packages (from jsonschema>=3.0->altair<6,>=4.0->streamlit) (0.24.0)\n",
            "Requirement already satisfied: six>=1.5 in /usr/local/lib/python3.11/dist-packages (from python-dateutil>=2.8.2->pandas<3,>=1.4.0->streamlit) (1.17.0)\n"
          ]
        }
      ]
    },
    {
      "cell_type": "code",
      "source": [
        "import pandas as pd\n",
        "from google.colab import files\n",
        "\n",
        "def assign_week(date):\n",
        "\n",
        "    day = date.day\n",
        "    if 1 <= day <= 7:\n",
        "        return \"01 Feb - 07 Feb\"\n",
        "    elif 8 <= day <= 14:\n",
        "        return \"08 Feb - 14 Feb\"\n",
        "    elif 15 <= day <= 21:\n",
        "        return \"15 Feb - 21 Feb\"\n",
        "    elif 22 <= day <= 28:\n",
        "        return \"22 Feb - 28 Feb\"\n",
        "    else:\n",
        "        return \"29 Feb - ...\"  # Adjust if needed\n",
        "\n",
        "def compute_weekly_chat_metrics(df):\n",
        "\n",
        "    # Overall metrics for the month:\n",
        "    overall_incoming = df['RoomCode'].count()\n",
        "    overall_unique = df['UserId'].nunique()\n",
        "    overall_closed_bot = df[df['ClosedBy'] == 'System'].shape[0]\n",
        "    overall_deflection = round((overall_closed_bot / overall_incoming * 100), 2) if overall_incoming > 0 else 0\n",
        "    overall_closed_agent = df[df['ClosedBy'] != 'System'].shape[0]\n",
        "\n",
        "    overall_row = {\n",
        "        \"Week\": \"Overall\",\n",
        "        \"Incoming Chats\": overall_incoming,\n",
        "        \"Unique Users\": overall_unique,\n",
        "        \"Closed By Bot\": overall_closed_bot,\n",
        "        \"Bot Deflection %\": overall_deflection,\n",
        "        \"Closed By Agents\": overall_closed_agent\n",
        "    }\n",
        "\n",
        "    # Create a new column 'Week' based on ChatStartTime.\n",
        "    df['Week'] = df['ChatStartTime'].apply(assign_week)\n",
        "\n",
        "    # Group by week and calculate metrics.\n",
        "    weekly_rows = []\n",
        "    for week, group in df.groupby(\"Week\"):\n",
        "        incoming = group['RoomCode'].count()\n",
        "        unique = group['UserId'].nunique()\n",
        "        closed_bot = group[group['ClosedBy'] == 'System'].shape[0]\n",
        "        deflection = round((closed_bot / incoming * 100), 2) if incoming > 0 else 0\n",
        "        closed_agent = group[group['ClosedBy'] != 'System'].shape[0]\n",
        "        weekly_rows.append({\n",
        "            \"Week\": week,\n",
        "            \"Incoming Chats\": incoming,\n",
        "            \"Unique Users\": unique,\n",
        "            \"Closed By Bot\": closed_bot,\n",
        "            \"Bot Deflection %\": deflection,\n",
        "            \"Closed By Agents\": closed_agent\n",
        "        })\n",
        "    weekly_df = pd.DataFrame(weekly_rows)\n",
        "\n",
        "    # Order the weekly rows by desired week order.\n",
        "    desired_order = [\"01 Feb - 07 Feb\", \"08 Feb - 14 Feb\", \"15 Feb - 21 Feb\", \"22 Feb - 28 Feb\"]\n",
        "    # Convert \"Week\" to a categorical type with our order for proper sorting:\n",
        "    weekly_df['Week'] = pd.Categorical(weekly_df['Week'], categories=desired_order, ordered=True)\n",
        "    weekly_df = weekly_df.sort_values(\"Week\")\n",
        "\n",
        "    # Concatenate the overall row and weekly rows.\n",
        "    overall_df = pd.DataFrame([overall_row])\n",
        "    final_df = pd.concat([overall_df, weekly_df], ignore_index=True)\n",
        "    return final_df\n",
        "\n",
        "def main():\n",
        "    # File in Colab (ensure your file is uploaded to /content folder with this name)\n",
        "    file_path = \"/content/DataDump.csv\"\n",
        "\n",
        "    try:\n",
        "        df = pd.read_csv(file_path)\n",
        "        print(\"Data loaded successfully!\")\n",
        "    except Exception as e:\n",
        "        print(\"Error reading DataDump.csv:\", e)\n",
        "        return\n",
        "\n",
        "    # Convert ChatStartTime and ChatEndTime using dayfirst=True\n",
        "    df['ChatStartTime'] = pd.to_datetime(df['ChatStartTime'], dayfirst=True)\n",
        "    df['ChatEndTime'] = pd.to_datetime(df['ChatEndTime'], dayfirst=True)\n",
        "\n",
        "    # Optional: Convert AgentFirstResponseTime if needed (using errors='coerce')\n",
        "    df['AgentFirstResponseTime'] = pd.to_timedelta(df['AgentFirstResponseTime'], errors='coerce')\n",
        "\n",
        "    # Compute the weekly chat metrics\n",
        "    metrics_df = compute_weekly_chat_metrics(df)\n",
        "    print(metrics_df)\n",
        "\n",
        "    # Write results to an Excel file\n",
        "    output_file = \"weekly_chat_metrics.xlsx\"\n",
        "    metrics_df.to_excel(output_file, index=False)\n",
        "    print(\"Weekly chat metrics report generated as:\", output_file)\n",
        "\n",
        "    # Download the Excel file\n",
        "    files.download(output_file)\n",
        "\n",
        "# Run the main function in Colab.\n",
        "main()\n"
      ],
      "metadata": {
        "colab": {
          "base_uri": "https://localhost:8080/",
          "height": 312
        },
        "id": "xG1mbYSIhF_o",
        "outputId": "64413c56-d745-4ec9-a0ef-d86c2289fdeb"
      },
      "execution_count": 51,
      "outputs": [
        {
          "output_type": "stream",
          "name": "stdout",
          "text": [
            "Data loaded successfully!\n",
            "              Week  Incoming Chats  Unique Users  Closed By Bot  \\\n",
            "0          Overall           10000          9404           6268   \n",
            "1  01 Feb - 07 Feb            2763          2642           1788   \n",
            "2  08 Feb - 14 Feb            2620          2513           1668   \n",
            "3  15 Feb - 21 Feb            2286          2188           1364   \n",
            "4  22 Feb - 28 Feb            2329          2230           1446   \n",
            "5              NaN               2             2              2   \n",
            "\n",
            "   Bot Deflection %  Closed By Agents  \n",
            "0             62.68              3732  \n",
            "1             64.71               975  \n",
            "2             63.66               952  \n",
            "3             59.67               922  \n",
            "4             62.09               883  \n",
            "5            100.00                 0  \n",
            "Weekly chat metrics report generated as: weekly_chat_metrics.xlsx\n"
          ]
        },
        {
          "output_type": "display_data",
          "data": {
            "text/plain": [
              "<IPython.core.display.Javascript object>"
            ],
            "application/javascript": [
              "\n",
              "    async function download(id, filename, size) {\n",
              "      if (!google.colab.kernel.accessAllowed) {\n",
              "        return;\n",
              "      }\n",
              "      const div = document.createElement('div');\n",
              "      const label = document.createElement('label');\n",
              "      label.textContent = `Downloading \"${filename}\": `;\n",
              "      div.appendChild(label);\n",
              "      const progress = document.createElement('progress');\n",
              "      progress.max = size;\n",
              "      div.appendChild(progress);\n",
              "      document.body.appendChild(div);\n",
              "\n",
              "      const buffers = [];\n",
              "      let downloaded = 0;\n",
              "\n",
              "      const channel = await google.colab.kernel.comms.open(id);\n",
              "      // Send a message to notify the kernel that we're ready.\n",
              "      channel.send({})\n",
              "\n",
              "      for await (const message of channel.messages) {\n",
              "        // Send a message to notify the kernel that we're ready.\n",
              "        channel.send({})\n",
              "        if (message.buffers) {\n",
              "          for (const buffer of message.buffers) {\n",
              "            buffers.push(buffer);\n",
              "            downloaded += buffer.byteLength;\n",
              "            progress.value = downloaded;\n",
              "          }\n",
              "        }\n",
              "      }\n",
              "      const blob = new Blob(buffers, {type: 'application/binary'});\n",
              "      const a = document.createElement('a');\n",
              "      a.href = window.URL.createObjectURL(blob);\n",
              "      a.download = filename;\n",
              "      div.appendChild(a);\n",
              "      a.click();\n",
              "      div.remove();\n",
              "    }\n",
              "  "
            ]
          },
          "metadata": {}
        },
        {
          "output_type": "display_data",
          "data": {
            "text/plain": [
              "<IPython.core.display.Javascript object>"
            ],
            "application/javascript": [
              "download(\"download_95d69c57-2f65-408f-8de4-5ae4f0f6da8a\", \"weekly_chat_metrics.xlsx\", 5731)"
            ]
          },
          "metadata": {}
        }
      ]
    },
    {
      "cell_type": "code",
      "source": [
        "from pyngrok import ngrok\n",
        "import subprocess\n",
        "import time\n",
        "\n",
        "# Kill any existing ngrok tunnels if needed (optional)\n",
        "!pkill ngrok\n",
        "\n",
        "# Add your ngrok authtoken to the configuration\n",
        "!ngrok config add-authtoken 2wFfJmoGHjhTrw158QdVssKwiRk_2Dxs7mtwShJFGsJVhBrLW  # Replaced <your_authtoken> with your actual token\n",
        "\n",
        "# Get a public URL for port 8501 (default Streamlit port)\n",
        "# Remove or comment out config_path and use the 'port' argument directly\n",
        "tunnel = ngrok.connect(8501, proto=\"http\")\n",
        "public_url = tunnel.public_url\n",
        "print(\"Public URL:\", public_url)\n",
        "\n",
        "# Run Streamlit app in the background\n",
        "proc = subprocess.Popen([\"streamlit\", \"run\", \"app.py\"])\n",
        "\n",
        "# Wait for Streamlit to start\n",
        "time.sleep(5)\n",
        "print(\"The Streamlit app should now be accessible via the public URL above.\")"
      ],
      "metadata": {
        "colab": {
          "base_uri": "https://localhost:8080/"
        },
        "id": "aakaUYUSham8",
        "outputId": "8c858fcf-dcd6-4074-c557-8a77339431bd"
      },
      "execution_count": 52,
      "outputs": [
        {
          "output_type": "stream",
          "name": "stdout",
          "text": [
            "Authtoken saved to configuration file: /root/.config/ngrok/ngrok.yml\n",
            "Public URL: https://8156-34-57-32-240.ngrok-free.app\n",
            "The Streamlit app should now be accessible via the public URL above.\n"
          ]
        }
      ]
    }
  ]
}